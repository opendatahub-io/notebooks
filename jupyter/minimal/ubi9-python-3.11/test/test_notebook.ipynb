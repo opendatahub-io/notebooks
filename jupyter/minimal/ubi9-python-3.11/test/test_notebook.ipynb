{
 "cells": [
  {
   "cell_type": "code",
   "execution_count": null,
   "id": "2d972b6b-1211-4c21-a7e8-a1683b72a62c",
   "metadata": {},
   "outputs": [],
   "source": [
    "import unittest\n",
    "import jupyterlab as jp\n",
    "from platform import python_version\n",
    "import nbdime\n",
    "import nbgitpuller\n",
    "\n",
    "def get_major_minor(s):\n",
    "    return '.'.join(s.split('.')[:2])\n",
    "\n",
    "class TestPythonVersion(unittest.TestCase):\n",
    "    def test_version(self):\n",
    "        expected_major_minor = '3.9'\n",
    "        actual_major_minor = get_major_minor(python_version())\n",
    "        self.assertEqual(actual_major_minor, expected_major_minor, \"incorrect version\")\n",
    "\n",
    "class TestDependenciesVersions(unittest.TestCase):\n",
    "    def test_jupyter_version(self):\n",
    "        expected_major_minor = '3.6'\n",
    "        actual_major_minor = get_major_minor(jp.__version__)\n",
    "        self.assertEqual(actual_major_minor, expected_major_minor, \"incorrect version\")\n",
    "\n",
    "    def test_nbgitpuller_version(self):\n",
    "        expected_major_minor = '1.2'\n",
    "        actual_major_minor = get_major_minor(nbgitpuller.__version__)\n",
    "        self.assertEqual(actual_major_minor, expected_major_minor, \"incorrect version\")\n",
    "\n",
    "    def test_nbdime_version(self):\n",
    "        expected_major_minor = '3.2'\n",
    "        actual_major_minor = get_major_minor(nbdime.__version__)\n",
    "        self.assertEqual(actual_major_minor, expected_major_minor, \"incorrect version\")\n",
    "\n",
    "unittest.main(argv=[''], verbosity=2, exit=False)"
   ]
  }
 ],
 "metadata": {
  "language_info": {
   "name": "python"
  },
  "orig_nbformat": 4
 },
 "nbformat": 4,
 "nbformat_minor": 2
}
