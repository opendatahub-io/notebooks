{
 "cells": [
  {
   "cell_type": "code",
   "execution_count": null,
   "metadata": {
    "tags": []
   },
   "outputs": [],
   "source": [
    "import unittest\n",
    "from unittest import mock\n",
    "from platform import python_version\n",
    "import torch\n",
    "import intel_extension_for_pytorch as ipex\n",
    "import torchvision\n",
    "import torchaudio\n",
    "\n",
    "def get_major_minor(s):\n",
    "    return '.'.join(s.split('.')[:2])\n",
    "\n",
    "class TestPythonVersion(unittest.TestCase):\n",
    "    def test_version(self):\n",
    "        expected_major_minor = '3.9'\n",
    "        actual_major_minor = get_major_minor(python_version())\n",
    "        self.assertEqual(actual_major_minor, expected_major_minor, \"incorrect version\")\n",
    "\n",
    "class TestPandas(unittest.TestCase):\n",
    "    def test_ipex_version(self):\n",
    "        expected_major_minor = '2.1'\n",
    "        actual_major_minor = get_major_minor(torch.__version__)\n",
    "        self.assertEqual(actual_major_minor, expected_major_minor, \"incorrect version\")\n",
    "        \n",
    "    def test_ipex_mode(self):\n",
    "        expected_mode = 'cpu'\n",
    "        actual_mode = ipex.__version__.split('+')[1]\n",
    "        self.assertEqual(actual_mode, expected_mode, \"incorrect mode\")\n",
    "    \n",
    "    def test_torch_version(self):\n",
    "        expected_major_minor = '2.1'\n",
    "        actual_major_minor = get_major_minor(ipex.__version__)\n",
    "        self.assertEqual(actual_major_minor, expected_major_minor, \"incorrect version\")\n",
    "    \n",
    "    def test_torchvision_version(self):\n",
    "        expected_major_minor = '0.16'\n",
    "        actual_major_minor = get_major_minor(torchvision.__version__)\n",
    "        self.assertEqual(actual_major_minor, expected_major_minor, \"incorrect version\")\n",
    "\n",
    "    def test_torchvision_version(self):\n",
    "        expected_major_minor = '2.1'\n",
    "        actual_major_minor = get_major_minor(torchaudio.__version__)\n",
    "        self.assertEqual(actual_major_minor, expected_major_minor, \"incorrect version\")\n",
    "\n",
    "unittest.main(argv=[''], verbosity=2, exit=False)"
   ]
  }
 ],
 "metadata": {
  "kernelspec": {
   "display_name": "pytorch-cpu",
   "language": "python",
   "name": "pytorch-cpu"
  },
  "language_info": {
   "codemirror_mode": {
    "name": "ipython",
    "version": 3
   },
   "file_extension": ".py",
   "mimetype": "text/x-python",
   "name": "python",
   "nbconvert_exporter": "python",
   "pygments_lexer": "ipython3",
   "version": "3.9.18"
  }
 },
 "nbformat": 4,
 "nbformat_minor": 4
}
