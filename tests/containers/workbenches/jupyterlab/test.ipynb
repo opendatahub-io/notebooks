{
 "cells": [
  {
   "cell_type": "code",
   "execution_count": null,
   "id": "952c981e",
   "metadata": {
    "vscode": {
     "languageId": "plaintext"
    }
   },
   "outputs": [],
   "source": [
    "print('Hello World')"
   ]
  }
 ],
 "metadata": {
  "language_info": {
   "name": "python"
  }
 },
 "nbformat": 4,
 "nbformat_minor": 5
}
